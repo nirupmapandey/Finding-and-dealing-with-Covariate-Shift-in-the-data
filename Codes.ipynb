{
 "cells": [
  {
   "cell_type": "code",
   "execution_count": 33,
   "metadata": {
    "colab": {
     "base_uri": "https://localhost:8080/",
     "height": 71
    },
    "colab_type": "code",
    "id": "E4DuZVvDyGPb",
    "outputId": "1138329f-9bb4-44e1-cb6c-ab454c21d806"
   },
   "outputs": [],
   "source": [
    "# data analysis and wrangling\n",
    "import pandas as pd\n",
    "import numpy as np\n",
    "import random as rnd\n",
    "\n",
    "# visualization\n",
    "import seaborn as sns\n",
    "import matplotlib.pyplot as plt\n",
    "%matplotlib inline\n",
    "\n",
    "# machine learning\n",
    "from sklearn.ensemble import RandomForestClassifier\n",
    "from sklearn.ensemble import RandomForestRegressor\n",
    "from sklearn.tree import DecisionTreeClassifier\n",
    "from sklearn.metrics import matthews_corrcoef\n",
    "from sklearn.preprocessing import LabelEncoder\n",
    "from sklearn.metrics import accuracy_score\n",
    "from sklearn.metrics import roc_auc_score\n",
    "from sklearn.metrics import roc_curve\n",
    "from sklearn.model_selection import KFold, cross_val_predict, train_test_split, cross_val_score\n"
   ]
  },
  {
   "cell_type": "code",
   "execution_count": 3,
   "metadata": {
    "colab": {
     "base_uri": "https://localhost:8080/",
     "height": 428
    },
    "colab_type": "code",
    "id": "76YyRGDzyGPn",
    "outputId": "2b24c2b4-31a6-440d-db42-a14b51ddbddb"
   },
   "outputs": [],
   "source": [
    "## reading files\n",
    "train_df = pd.read_csv('train_3.csv')\n",
    "test_df = pd.read_csv('test_3.csv')"
   ]
  },
  {
   "cell_type": "code",
   "execution_count": 4,
   "metadata": {},
   "outputs": [
    {
     "name": "stdout",
     "output_type": "stream",
     "text": [
      "Loan_ID               0\n",
      "Gender               13\n",
      "Married               3\n",
      "Dependents           15\n",
      "Education             0\n",
      "Self_Employed        32\n",
      "ApplicantIncome       0\n",
      "CoapplicantIncome     0\n",
      "LoanAmount           22\n",
      "Loan_Amount_Term     14\n",
      "Credit_History       50\n",
      "Property_Area         0\n",
      "Loan_Status           0\n",
      "dtype: int64 Loan_ID               0\n",
      "Gender               11\n",
      "Married               0\n",
      "Dependents           10\n",
      "Education             0\n",
      "Self_Employed        23\n",
      "ApplicantIncome       0\n",
      "CoapplicantIncome     0\n",
      "LoanAmount            5\n",
      "Loan_Amount_Term      6\n",
      "Credit_History       29\n",
      "Property_Area         0\n",
      "dtype: int64\n"
     ]
    }
   ],
   "source": [
    "#checking for NA values in train and test\n",
    "print(train_df.isna().sum(),test_df.isna().sum())"
   ]
  },
  {
   "cell_type": "code",
   "execution_count": 5,
   "metadata": {
    "colab": {},
    "colab_type": "code",
    "id": "PrvTKX-_yGPx"
   },
   "outputs": [],
   "source": [
    "#dropping Loan_ID column from train and test, as it will not help in prediction\n",
    "train_df.drop(columns=['Loan_ID'], inplace=True)\n",
    "#print(train_df)\n",
    "test_df.drop(columns=['Loan_ID'], inplace=True)\n",
    "#print(test_df)"
   ]
  },
  {
   "cell_type": "code",
   "execution_count": 6,
   "metadata": {
    "colab": {},
    "colab_type": "code",
    "id": "tQtAneu_yGP3"
   },
   "outputs": [],
   "source": [
    "## missing values imputation in train\n",
    "for i in train_df.columns:\n",
    "    if train_df[i].dtype == 'object':\n",
    "      train_df[i] = train_df[i].fillna(train_df[i].mode().iloc[0])\n",
    "    if (train_df[i].dtype == 'int' or train_df[i].dtype == 'float'):\n",
    "      train_df[i] = train_df[i].fillna(np.mean(train_df[i]))"
   ]
  },
  {
   "cell_type": "code",
   "execution_count": 7,
   "metadata": {
    "colab": {},
    "colab_type": "code",
    "id": "rQoLgfxDyGP-"
   },
   "outputs": [],
   "source": [
    "## missing values imputation in test\n",
    "for i in test_df.columns:\n",
    "    if test_df[i].dtype == 'object':\n",
    "      test_df[i] = test_df[i].fillna(test_df[i].mode().iloc[0])\n",
    "    if (test_df[i].dtype == 'int' or test_df[i].dtype == 'float'):\n",
    "      test_df[i] = test_df[i].fillna(np.mean(test_df[i]))"
   ]
  },
  {
   "cell_type": "code",
   "execution_count": 8,
   "metadata": {
    "colab": {},
    "colab_type": "code",
    "id": "f98AimIbyGQN"
   },
   "outputs": [],
   "source": [
    "## label encoding for categorial variables in train_df\n",
    "number = LabelEncoder()\n",
    "for i in train_df.columns:\n",
    "    if (train_df[i].dtype == 'object'):\n",
    "      train_df[i] = number.fit_transform(train_df[i].astype('str'))\n",
    "      train_df[i] = train_df[i].astype('object')"
   ]
  },
  {
   "cell_type": "code",
   "execution_count": 9,
   "metadata": {
    "colab": {},
    "colab_type": "code",
    "id": "ihc0PeceyGQS"
   },
   "outputs": [],
   "source": [
    "## label encoding for categorial variables in test_df\n",
    "for i in test_df.columns:\n",
    "    if (test_df[i].dtype == 'object'):\n",
    "      test_df[i] = number.fit_transform(test_df[i].astype('str'))\n",
    "      test_df[i] = test_df[i].astype('object')"
   ]
  },
  {
   "cell_type": "code",
   "execution_count": 11,
   "metadata": {
    "colab": {},
    "colab_type": "code",
    "id": "ugwZIaesyGQY"
   },
   "outputs": [],
   "source": [
    "## creating a new feature origin\n",
    "train_df['origin'] = 0                     # fix origin = 0 for all row in train_df\n",
    "test_df['origin'] = 1                      # fix origin = 1 for all row in test_df\n",
    "training = train_df.drop('Loan_Status',axis=1)     #droping target variable"
   ]
  },
  {
   "cell_type": "code",
   "execution_count": 13,
   "metadata": {},
   "outputs": [],
   "source": [
    "## taking sample from training and test data\n",
    "training = training.sample(102, random_state=12)                 # a random sample selection from train\n",
    "testing = test_df.sample(88, random_state=11)                      # a random sample selection from test"
   ]
  },
  {
   "cell_type": "code",
   "execution_count": 14,
   "metadata": {},
   "outputs": [],
   "source": [
    "## combining random samples\n",
    "combi = training.append(testing)\n",
    "y = combi['origin']\n",
    "combi.drop('origin',axis=1,inplace=True)              # dropping column Origin"
   ]
  },
  {
   "cell_type": "code",
   "execution_count": 60,
   "metadata": {},
   "outputs": [
    {
     "name": "stdout",
     "output_type": "stream",
     "text": [
      "['Dependents', 'Self_Employed', 'ApplicantIncome', 'LoanAmount', 'Loan_Amount_Term', 'Credit_History']\n"
     ]
    }
   ],
   "source": [
    "## defining and fitting model\n",
    "model = RandomForestClassifier(n_estimators = 50, max_depth = 5,min_samples_leaf = 5)\n",
    "drop_list = []                                           # initalise an array\n",
    "for i in combi.columns:\n",
    "    score = cross_val_score(model,pd.DataFrame(combi[i]),y,cv=2,scoring='roc_auc')           #taking one feature at a time and calculation roc_auc score\n",
    "    if (np.mean(score) > 0.5):                           \n",
    "        drop_list.append(i)                             # apend array drop_list for each feature scoring roc_auc more than treshold 0.5\n",
    "    #print(i,np.mean(score))\n",
    "print(drop_list)\n"
   ]
  },
  {
   "cell_type": "code",
   "execution_count": 20,
   "metadata": {
    "colab": {
     "base_uri": "https://localhost:8080/",
     "height": 265
    },
    "colab_type": "code",
    "id": "kN-WuW1qz2_N",
    "outputId": "60ca963c-b414-49e3-90ad-84d1da7dc18f"
   },
   "outputs": [
    {
     "name": "stderr",
     "output_type": "stream",
     "text": [
      "C:\\Users\\HP\\anaconda\\lib\\site-packages\\ipykernel_launcher.py:4: FutureWarning: Sorting because non-concatenation axis is not aligned. A future version\n",
      "of pandas will change to not sort by default.\n",
      "\n",
      "To accept the future behavior, pass 'sort=False'.\n",
      "\n",
      "To retain the current behavior and silence the warning, pass 'sort=True'.\n",
      "\n",
      "  after removing the cwd from sys.path.\n"
     ]
    },
    {
     "data": {
      "image/png": "[encoded data removed]",
      "text/plain": [
       "<Figure size 432x288 with 1 Axes>"
      ]
     },
     "metadata": {
      "needs_background": "light"
     },
     "output_type": "display_data"
    }
   ],
   "source": [
    "#Plotting histogram of drifting features to visualize the data shift\n",
    "train_df['Origin'] = 0                        # defining Origin = 0 for train data\n",
    "test_df['Origin'] = 1                         # defining Origin = 1 for train data\n",
    "combine_df=pd.concat([train_df,test_df], axis=0, ignore_index=True)              # concating both train and test as combine_df dataset\n",
    "plt.hist(combine_df.loc[combine_df['Origin'] == 0,\"Married\"], color=\"skyblue\", label=\"Origin=0\")\n",
    "plt.hist(combine_df.loc[combine_df['Origin'] == 1,\"Married\"],color=\"red\",alpha=.75, label=\"Origin=1\")\n",
    "plt.legend()\n",
    "plt.show()"
   ]
  },
  {
   "cell_type": "code",
   "execution_count": 23,
   "metadata": {
    "colab": {
     "base_uri": "https://localhost:8080/",
     "height": 265
    },
    "colab_type": "code",
    "id": "XU5NB1y30eyW",
    "outputId": "235baa41-1395-4135-b572-efee9df98684"
   },
   "outputs": [
    {
     "data": {
      "image/png": "[encoded data removed]",
      "text/plain": [
       "<Figure size 432x288 with 1 Axes>"
      ]
     },
     "metadata": {
      "needs_background": "light"
     },
     "output_type": "display_data"
    }
   ],
   "source": [
    "#Plotting histogram with Dependents feature to show the drift\n",
    "\n",
    "plt.hist(combine_df.loc[combine_df['Origin'] == 0,\"Dependents\"], color=\"skyblue\", label=\"Origin=0\")\n",
    "plt.hist(combine_df.loc[combine_df['Origin'] == 1,\"Dependents\"],color=\"red\",alpha=.75, label=\"Origin=1\")\n",
    "plt.legend()\n",
    "plt.show()"
   ]
  },
  {
   "cell_type": "code",
   "execution_count": 24,
   "metadata": {
    "colab": {
     "base_uri": "https://localhost:8080/",
     "height": 265
    },
    "colab_type": "code",
    "id": "anwuRhAx00QH",
    "outputId": "57495952-f9bf-499a-c851-2e7b46563ff2"
   },
   "outputs": [
    {
     "data": {
      "image/png": "[encoded data removed]",
      "text/plain": [
       "<Figure size 432x288 with 1 Axes>"
      ]
     },
     "metadata": {
      "needs_background": "light"
     },
     "output_type": "display_data"
    }
   ],
   "source": [
    "#Plotting histogram with Self_Employed feature to show the drift\n",
    "\n",
    "plt.hist(combine_df.loc[combine_df['Origin'] == 0,\"Self_Employed\"], color=\"skyblue\", label=\"Origin=0\")\n",
    "plt.hist(combine_df.loc[combine_df['Origin'] == 1,\"Self_Employed\"],color=\"red\",alpha=.75, label=\"Origin=1\")\n",
    "plt.legend()\n",
    "plt.show()"
   ]
  },
  {
   "cell_type": "code",
   "execution_count": 25,
   "metadata": {
    "colab": {},
    "colab_type": "code",
    "id": "isCEZTxx1AVf"
   },
   "outputs": [
    {
     "data": {
      "image/png": "[encoded data removed]",
      "text/plain": [
       "<Figure size 432x288 with 1 Axes>"
      ]
     },
     "metadata": {
      "needs_background": "light"
     },
     "output_type": "display_data"
    }
   ],
   "source": [
    "#Plotting histogram with LoanAmount feature to show the drift\n",
    "\n",
    "plt.hist(combine_df.loc[combine_df['Origin'] == 0,\"LoanAmount\"], color=\"skyblue\", label=\"Origin=0\")\n",
    "plt.hist(combine_df.loc[combine_df['Origin'] == 1,\"LoanAmount\"],color=\"red\",alpha=.75, label=\"Origin=1\")\n",
    "plt.legend()\n",
    "plt.show()"
   ]
  },
  {
   "cell_type": "code",
   "execution_count": 26,
   "metadata": {},
   "outputs": [
    {
     "data": {
      "image/png": "[encoded data removed]",
      "text/plain": [
       "<Figure size 432x288 with 1 Axes>"
      ]
     },
     "metadata": {
      "needs_background": "light"
     },
     "output_type": "display_data"
    }
   ],
   "source": [
    "#Plotting histogram with Loan_Amount_Term feature to show the drift\n",
    "\n",
    "plt.hist(combine_df.loc[combine_df['Origin'] == 0,\"Loan_Amount_Term\"], color=\"skyblue\", label=\"Origin=0\")\n",
    "plt.hist(combine_df.loc[combine_df['Origin'] == 1,\"Loan_Amount_Term\"],color=\"red\",alpha=.75, label=\"Origin=1\")\n",
    "plt.legend()\n",
    "plt.show()"
   ]
  },
  {
   "cell_type": "code",
   "execution_count": 27,
   "metadata": {},
   "outputs": [
    {
     "data": {
      "image/png": "[encoded data removed]",
      "text/plain": [
       "<Figure size 432x288 with 1 Axes>"
      ]
     },
     "metadata": {
      "needs_background": "light"
     },
     "output_type": "display_data"
    }
   ],
   "source": [
    "#Plotting histogram with Credit_History feature to show the drift\n",
    "\n",
    "plt.hist(combine_df.loc[combine_df['Origin'] == 0,\"Credit_History\"], color=\"skyblue\", label=\"Origin=0\")\n",
    "plt.hist(combine_df.loc[combine_df['Origin'] == 1,\"Credit_History\"],color=\"red\",alpha=.75, label=\"Origin=1\")\n",
    "plt.legend()\n",
    "plt.show()"
   ]
  },
  {
   "cell_type": "code",
   "execution_count": 47,
   "metadata": {
    "colab": {},
    "colab_type": "code",
    "id": "KwNj3AEVyGQr"
   },
   "outputs": [],
   "source": [
    "#creating a new training set with 80% of test and train set\n",
    "train_c=pd.concat([training[:8*len(training)//10], testing[:8*len(testing)//10]], sort = False)\n",
    "#creating a new test set with 80% of test and train set\n",
    "test_c=pd.concat([training[8*len(training)//10:], testing[8*len(testing)//10:]], sort = False)"
   ]
  },
  {
   "cell_type": "code",
   "execution_count": 49,
   "metadata": {
    "colab": {},
    "colab_type": "code",
    "id": "DkKJ4uMY7OAE"
   },
   "outputs": [],
   "source": [
    "#Evaluate data set with different models\n",
    "X_train_o = train_c.drop(\"origin\", axis=1)\n",
    "Y_train_o = train_c[\"origin\"]\n",
    "X_test_o  = test_c.drop(\"origin\", axis=1)\n",
    "y_test_o = test_c[\"origin\"]\n"
   ]
  },
  {
   "cell_type": "code",
   "execution_count": 50,
   "metadata": {
    "colab": {},
    "colab_type": "code",
    "id": "c6LK5l297n8v"
   },
   "outputs": [],
   "source": [
    "#Calculation of metrics Precision, Recall, F1-Score\n",
    "from sklearn.metrics import roc_auc_score\n",
    "from sklearn import metrics\n",
    "def metricas(y_t,y_p):\n",
    "    p=metrics.precision_score(y_t,y_p,average='weighted'),\n",
    "    r=metrics.recall_score(y_t,y_p,average='weighted')\n",
    "    f1=metrics.f1_score(y_t,y_p,average='weighted')\n",
    "    return p,r,f1"
   ]
  },
  {
   "cell_type": "code",
   "execution_count": 51,
   "metadata": {
    "colab": {},
    "colab_type": "code",
    "id": "qkEsNGKu7uOi"
   },
   "outputs": [],
   "source": [
    "def plot_curve(y_t,y_p):   \n",
    "    fpr, tpr, umbral = roc_curve(y_t, y_p)\n",
    "    plt.plot([0, 1], [0, 1], linestyle='--')\n",
    "    # plot the roc curve for the model\n",
    "    plt.plot(fpr, tpr, marker='.')\n",
    "    # show the plot\n",
    "    plt.show()"
   ]
  },
  {
   "cell_type": "code",
   "execution_count": 52,
   "metadata": {
    "colab": {},
    "colab_type": "code",
    "id": "7nRndDoz70Vp"
   },
   "outputs": [],
   "source": [
    "def b_ratio(probs):\n",
    "    probs=probs+1e-20 #suavizar valores a 0\n",
    "    b=(1./probs)-1 #calcular pesos\n",
    "    b/= np.mean(b) #normalizar pesos\n",
    "    sns.distplot(b, kde=False)\n",
    "    plt.show()"
   ]
  },
  {
   "cell_type": "code",
   "execution_count": 53,
   "metadata": {
    "colab": {
     "base_uri": "https://localhost:8080/",
     "height": 581
    },
    "colab_type": "code",
    "id": "SjiuGr9Z8Ecg",
    "outputId": "7266b931-2a3a-4e1c-ee1a-e4a197375414"
   },
   "outputs": [
    {
     "data": {
      "image/png": "[encoded data removed]",
      "text/plain": [
       "<Figure size 432x288 with 1 Axes>"
      ]
     },
     "metadata": {
      "needs_background": "light"
     },
     "output_type": "display_data"
    },
    {
     "name": "stdout",
     "output_type": "stream",
     "text": [
      "Acc:  58.97\n",
      "Phi Coefficiente:  0.1649572197684645\n",
      "ROC-AUC:  0.5793650793650794\n"
     ]
    },
    {
     "data": {
      "image/png": "[encoded data removed]",
      "text/plain": [
       "<Figure size 432x288 with 1 Axes>"
      ]
     },
     "metadata": {
      "needs_background": "light"
     },
     "output_type": "display_data"
    },
    {
     "name": "stdout",
     "output_type": "stream",
     "text": [
      "---------------------------------------------------------\n"
     ]
    }
   ],
   "source": [
    "# In the first evaluation, two metrics were used to verify the existence of covariate shift:\n",
    "# if Phi Coefficient > 0.3 then there is covariate shift\n",
    "# if AUC-ROC curve > 0.5 then there is covariate shift\n",
    "\n",
    "random_forest = RandomForestClassifier(n_estimators=100)\n",
    "random_forest.fit(X_train_o, Y_train_o)\n",
    "Y_pred_o = random_forest.predict(X_test_o)\n",
    "acc_random_forest = round(random_forest.score(X_test_o, y_test_o) * 100, 2)\n",
    "\n",
    "probs = random_forest.predict_proba(X_test_o)[:, 0] #prob por muestra P(train|x)\n",
    "b_ratio(probs)\n",
    "\n",
    "print(\"Acc: \",acc_random_forest)\n",
    "print(\"Phi Coefficiente: \",matthews_corrcoef(y_test_o, Y_pred_o))\n",
    "print(\"ROC-AUC: \",roc_auc_score(y_test_o, Y_pred_o))\n",
    "plot_curve(y_test_o,Y_pred_o)\n",
    "print('---------------------------------------------------------')\n"
   ]
  },
  {
   "cell_type": "code",
   "execution_count": 61,
   "metadata": {},
   "outputs": [],
   "source": [
    "# plotting 10 features covering important informance for prediction\n",
    "features = train_df.drop('Loan_Status',axis=1).columns.values\n",
    "imp = rf.feature_importances_\n",
    "indices = np.argsort(imp)[::-1][:10]"
   ]
  },
  {
   "cell_type": "code",
   "execution_count": 62,
   "metadata": {},
   "outputs": [
    {
     "data": {
      "image/png": "[encoded data removed]",
      "text/plain": [
       "<Figure size 576x360 with 1 Axes>"
      ]
     },
     "metadata": {
      "needs_background": "light"
     },
     "output_type": "display_data"
    }
   ],
   "source": [
    "#plotting 8 such features containing maximum information for prediction\n",
    "plt.figure(figsize=(8,5))\n",
    "plt.bar(range(len(indices)), imp[indices], color = 'b', align='center')\n",
    "plt.xticks(range(len(indices)), features[indices], rotation='vertical')\n",
    "plt.xlim([-1,len(indices)])\n",
    "plt.show()"
   ]
  },
  {
   "cell_type": "code",
   "execution_count": 63,
   "metadata": {},
   "outputs": [],
   "source": [
    "## manully checked for features not coming dropping drifting features which are not important.\n",
    "drift_train = training.drop(['Married', 'Self_Employed'], axis=1)\n",
    "drift_test = testing.drop(['Married', 'Self_Employed'], axis=1)"
   ]
  },
  {
   "cell_type": "code",
   "execution_count": 68,
   "metadata": {},
   "outputs": [],
   "source": [
    "#creating a new training set with 80% of test and train set\n",
    "train_c=pd.concat([drift_train[:8*len(drift_train)//10], drift_test[:8*len(drift_test)//10]], sort = False)\n",
    "#creating a new test set with 80% of test and train set\n",
    "test_c=pd.concat([drift_train[8*len(drift_train)//10:], drift_test[8*len(drift_test)//10:]], sort = False)"
   ]
  },
  {
   "cell_type": "code",
   "execution_count": 69,
   "metadata": {},
   "outputs": [],
   "source": [
    "#Evaluate data set with different models\n",
    "X_train_o = train_c.drop(\"origin\", axis=1)\n",
    "Y_train_o = train_c[\"origin\"]\n",
    "X_test_o  = test_c.drop(\"origin\", axis=1)\n",
    "y_test_o = test_c[\"origin\"]\n"
   ]
  },
  {
   "cell_type": "code",
   "execution_count": 70,
   "metadata": {},
   "outputs": [
    {
     "data": {
      "image/png": "[encoded data removed]",
      "text/plain": [
       "<Figure size 432x288 with 1 Axes>"
      ]
     },
     "metadata": {
      "needs_background": "light"
     },
     "output_type": "display_data"
    },
    {
     "name": "stdout",
     "output_type": "stream",
     "text": [
      "Acc:  69.23\n",
      "Phi Coefficiente:  0.42132571839742106\n",
      "ROC-AUC:  0.6706349206349206\n"
     ]
    },
    {
     "data": {
      "image/png": "[encoded data removed]",
      "text/plain": [
       "<Figure size 432x288 with 1 Axes>"
      ]
     },
     "metadata": {
      "needs_background": "light"
     },
     "output_type": "display_data"
    },
    {
     "name": "stdout",
     "output_type": "stream",
     "text": [
      "---------------------------------------------------------\n"
     ]
    }
   ],
   "source": [
    "# In the first evaluation, two metrics were used to verify the existence of covariate shift:\n",
    "# if Phi Coefficient > 0.3 then there is covariate shift\n",
    "# if AUC-ROC curve > 0.5 then there is covariate shift\n",
    "\n",
    "random_forest = RandomForestClassifier(n_estimators=100)\n",
    "random_forest.fit(X_train_o, Y_train_o)\n",
    "Y_pred_o = random_forest.predict(X_test_o)\n",
    "acc_random_forest = round(random_forest.score(X_test_o, y_test_o) * 100, 2)\n",
    "\n",
    "probs = random_forest.predict_proba(X_test_o)[:, 0] #prob por muestra P(train|x)\n",
    "b_ratio(probs)\n",
    "\n",
    "print(\"Acc: \",acc_random_forest)\n",
    "print(\"Phi Coefficiente: \",matthews_corrcoef(y_test_o, Y_pred_o))\n",
    "print(\"ROC-AUC: \",roc_auc_score(y_test_o, Y_pred_o))\n",
    "plot_curve(y_test_o,Y_pred_o)\n",
    "print('---------------------------------------------------------')\n"
   ]
  },
  {
   "cell_type": "code",
   "execution_count": null,
   "metadata": {},
   "outputs": [],
   "source": []
  }
 ],
 "metadata": {
  "colab": {
   "collapsed_sections": [],
   "name": "CE888 Assignment.ipynb",
   "provenance": [],
   "toc_visible": true
  },
  "kernelspec": {
   "display_name": "Python 3",
   "language": "python",
   "name": "python3"
  },
  "language_info": {
   "codemirror_mode": {
    "name": "ipython",
    "version": 3
   },
   "file_extension": ".py",
   "mimetype": "text/x-python",
   "name": "python",
   "nbconvert_exporter": "python",
   "pygments_lexer": "ipython3",
   "version": "3.7.4"
  }
 },
 "nbformat": 4,
 "nbformat_minor": 4
}
